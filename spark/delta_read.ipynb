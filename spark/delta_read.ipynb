{
 "cells": [
  {
   "cell_type": "code",
   "execution_count": 1,
   "metadata": {},
   "outputs": [
    {
     "name": "stdout",
     "output_type": "stream",
     "text": [
      ":: loading settings :: url = jar:file:/home/ubuntu/spark/jars/ivy-2.5.1.jar!/org/apache/ivy/core/settings/ivysettings.xml\n"
     ]
    },
    {
     "name": "stderr",
     "output_type": "stream",
     "text": [
      "Ivy Default Cache set to: /home/ubuntu/.ivy2/cache\n",
      "The jars for the packages stored in: /home/ubuntu/.ivy2/jars\n",
      "io.delta#delta-core_2.12 added as a dependency\n",
      ":: resolving dependencies :: org.apache.spark#spark-submit-parent-a7951c3d-c0f2-4a6c-99e3-08aa74ffd252;1.0\n",
      "\tconfs: [default]\n",
      "\tfound io.delta#delta-core_2.12;2.3.0 in central\n",
      "\tfound io.delta#delta-storage;2.3.0 in central\n",
      "\tfound org.antlr#antlr4-runtime;4.8 in central\n",
      ":: resolution report :: resolve 207ms :: artifacts dl 11ms\n",
      "\t:: modules in use:\n",
      "\tio.delta#delta-core_2.12;2.3.0 from central in [default]\n",
      "\tio.delta#delta-storage;2.3.0 from central in [default]\n",
      "\torg.antlr#antlr4-runtime;4.8 from central in [default]\n",
      "\t---------------------------------------------------------------------\n",
      "\t|                  |            modules            ||   artifacts   |\n",
      "\t|       conf       | number| search|dwnlded|evicted|| number|dwnlded|\n",
      "\t---------------------------------------------------------------------\n",
      "\t|      default     |   3   |   0   |   0   |   0   ||   3   |   0   |\n",
      "\t---------------------------------------------------------------------\n",
      ":: retrieving :: org.apache.spark#spark-submit-parent-a7951c3d-c0f2-4a6c-99e3-08aa74ffd252\n",
      "\tconfs: [default]\n",
      "\t0 artifacts copied, 3 already retrieved (0kB/8ms)\n",
      "Setting default log level to \"WARN\".\n",
      "To adjust logging level use sc.setLogLevel(newLevel). For SparkR, use setLogLevel(newLevel).\n"
     ]
    },
    {
     "name": "stdout",
     "output_type": "stream",
     "text": [
      "23/04/27 11:36:06 WARN Client: Neither spark.yarn.jars nor spark.yarn.archive is set, falling back to uploading libraries under SPARK_HOME.\n",
      "23/04/27 11:36:17 WARN Client: Same path resource file:///home/ubuntu/.ivy2/jars/io.delta_delta-core_2.12-2.3.0.jar added multiple times to distributed cache.\n",
      "23/04/27 11:36:17 WARN Client: Same path resource file:///home/ubuntu/.ivy2/jars/io.delta_delta-storage-2.3.0.jar added multiple times to distributed cache.\n",
      "23/04/27 11:36:17 WARN Client: Same path resource file:///home/ubuntu/.ivy2/jars/org.antlr_antlr4-runtime-4.8.jar added multiple times to distributed cache.\n"
     ]
    },
    {
     "name": "stderr",
     "output_type": "stream",
     "text": [
      "                                                                                \r"
     ]
    },
    {
     "name": "stdout",
     "output_type": "stream",
     "text": [
      "23/04/27 11:37:02 WARN package: Truncated the string representation of a plan since it was too large. This behavior can be adjusted by setting 'spark.sql.debug.maxToStringFields'.\n"
     ]
    },
    {
     "name": "stderr",
     "output_type": "stream",
     "text": [
      "                                                                                \r"
     ]
    },
    {
     "name": "stdout",
     "output_type": "stream",
     "text": [
      "+--------------------+---------+-----+----+\n",
      "|           Review_id|     Word|Count|Rank|\n",
      "+--------------------+---------+-----+----+\n",
      "|---JpOlzUyBISir2T...|   really|    4|   1|\n",
      "|---hCjckCLwO6ZzVf...|    hotel|    4|   1|\n",
      "|---xLOb2_Yx8jwiRx...|   jacket|    1|   3|\n",
      "|--1KBNuxY7FaeA23e...|     half|    3|   1|\n",
      "|--1WVkDZ5zTqBNDZ-...|    house|    3|   3|\n",
      "|--1m338Otp2qNcmUq...|  chicken|    5|   1|\n",
      "|--23w0IzbO7kuwHBG...|  waiting|    3|   1|\n",
      "|--2CDaO5lGg3UsBLx...|  enjoyed|    1|   3|\n",
      "|--2Xzl1U0aKxVL2Ls...|     week|    2|   2|\n",
      "|--2hqqFQrP1NDHPsa...|      get|    1|   3|\n",
      "|--2tQhi60QIknFck5...|     food|    1|   1|\n",
      "|--2xVycDfXYXVr0_0...|     long|    2|   1|\n",
      "|--3NvAM1e0PVTLnIt...|    pizza|    2|   3|\n",
      "|--3Yvy3hkE4HYa9PJ...|     food|    2|   3|\n",
      "|--3e252CpJW-NYzHg...|    avoid|    1|   3|\n",
      "|--3tvNOGHrt3aor2X...|     best|    2|   1|\n",
      "|--4GzOR_c_SA6TOQo...|    great|    3|   2|\n",
      "|--4KPEQug_TeaxGKO...|     best|    2|   3|\n",
      "|--5Neb3HvDu8WHs2u...|     good|    3|   3|\n",
      "|--6o-NsF0EtQA1YVT...|breakfast|    1|   3|\n",
      "+--------------------+---------+-----+----+\n",
      "only showing top 20 rows\n",
      "\n"
     ]
    },
    {
     "name": "stderr",
     "output_type": "stream",
     "text": [
      "[Stage 11:==========================================>             (38 + 2) / 50]\r"
     ]
    },
    {
     "name": "stdout",
     "output_type": "stream",
     "text": [
      "20967456\n",
      "StructType([StructField('Review_id', StringType(), True), StructField('Word', StringType(), True), StructField('Count', LongType(), True), StructField('Rank', IntegerType(), True)])\n"
     ]
    },
    {
     "name": "stderr",
     "output_type": "stream",
     "text": [
      "                                                                                \r"
     ]
    }
   ],
   "source": [
    "from pyspark.sql.types import *\n",
    "import pyspark \n",
    "from delta import *\n",
    "\n",
    "builder = pyspark.sql.SparkSession.builder.appName(\"delta_read\") \\\n",
    "    .config(\"spark.sql.extensions\", \"io.delta.sql.DeltaSparkSessionExtension\") \\\n",
    "    .config(\"spark.sql.catalog.spark_catalog\", \"org.apache.spark.sql.delta.catalog.DeltaCatalog\")\n",
    "\n",
    "spark = configure_spark_with_delta_pip(builder).getOrCreate()\n",
    "\n",
    "df = spark.read.format(\"delta\").load(\"hdfs:///project/data/review_data/delta_table\")\n",
    "# df.sort(\"Business_id\").show()\n",
    "df.show()\n",
    "print(df.count())\n",
    "print(df.schema)"
   ]
  }
 ],
 "metadata": {
  "kernelspec": {
   "display_name": "Python 3",
   "language": "python",
   "name": "python3"
  },
  "language_info": {
   "codemirror_mode": {
    "name": "ipython",
    "version": 3
   },
   "file_extension": ".py",
   "mimetype": "text/x-python",
   "name": "python",
   "nbconvert_exporter": "python",
   "pygments_lexer": "ipython3",
   "version": "3.8.10"
  },
  "orig_nbformat": 4
 },
 "nbformat": 4,
 "nbformat_minor": 2
}
