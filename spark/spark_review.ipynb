{
 "cells": [
  {
   "cell_type": "code",
   "execution_count": 1,
   "metadata": {},
   "outputs": [
    {
     "name": "stdout",
     "output_type": "stream",
     "text": [
      ":: loading settings :: url = jar:file:/home/ubuntu/spark/jars/ivy-2.5.1.jar!/org/apache/ivy/core/settings/ivysettings.xml\n"
     ]
    },
    {
     "name": "stderr",
     "output_type": "stream",
     "text": [
      "Ivy Default Cache set to: /home/ubuntu/.ivy2/cache\n",
      "The jars for the packages stored in: /home/ubuntu/.ivy2/jars\n",
      "io.delta#delta-core_2.12 added as a dependency\n",
      ":: resolving dependencies :: org.apache.spark#spark-submit-parent-ebd2956e-2dcb-49df-8a52-a62ed824df92;1.0\n",
      "\tconfs: [default]\n",
      "\tfound io.delta#delta-core_2.12;2.3.0 in central\n",
      "\tfound io.delta#delta-storage;2.3.0 in central\n",
      "\tfound org.antlr#antlr4-runtime;4.8 in central\n",
      ":: resolution report :: resolve 213ms :: artifacts dl 9ms\n",
      "\t:: modules in use:\n",
      "\tio.delta#delta-core_2.12;2.3.0 from central in [default]\n",
      "\tio.delta#delta-storage;2.3.0 from central in [default]\n",
      "\torg.antlr#antlr4-runtime;4.8 from central in [default]\n",
      "\t---------------------------------------------------------------------\n",
      "\t|                  |            modules            ||   artifacts   |\n",
      "\t|       conf       | number| search|dwnlded|evicted|| number|dwnlded|\n",
      "\t---------------------------------------------------------------------\n",
      "\t|      default     |   3   |   0   |   0   |   0   ||   3   |   0   |\n",
      "\t---------------------------------------------------------------------\n",
      ":: retrieving :: org.apache.spark#spark-submit-parent-ebd2956e-2dcb-49df-8a52-a62ed824df92\n",
      "\tconfs: [default]\n",
      "\t0 artifacts copied, 3 already retrieved (0kB/7ms)\n",
      "Setting default log level to \"WARN\".\n",
      "To adjust logging level use sc.setLogLevel(newLevel). For SparkR, use setLogLevel(newLevel).\n"
     ]
    },
    {
     "name": "stdout",
     "output_type": "stream",
     "text": [
      "23/05/03 21:33:14 WARN Client: Neither spark.yarn.jars nor spark.yarn.archive is set, falling back to uploading libraries under SPARK_HOME.\n",
      "23/05/03 21:33:40 WARN Client: Same path resource file:///home/ubuntu/.ivy2/jars/io.delta_delta-core_2.12-2.3.0.jar added multiple times to distributed cache.\n",
      "23/05/03 21:33:40 WARN Client: Same path resource file:///home/ubuntu/.ivy2/jars/io.delta_delta-storage-2.3.0.jar added multiple times to distributed cache.\n",
      "23/05/03 21:33:40 WARN Client: Same path resource file:///home/ubuntu/.ivy2/jars/org.antlr_antlr4-runtime-4.8.jar added multiple times to distributed cache.\n"
     ]
    },
    {
     "name": "stderr",
     "output_type": "stream",
     "text": [
      "[Stage 0:>                                                         (0 + 0) / 34]\r"
     ]
    },
    {
     "name": "stdout",
     "output_type": "stream",
     "text": [
      "23/05/03 21:34:11 WARN YarnScheduler: Initial job has not accepted any resources; check your cluster UI to ensure that workers are registered and have sufficient resources\n",
      "23/05/03 21:34:26 WARN YarnScheduler: Initial job has not accepted any resources; check your cluster UI to ensure that workers are registered and have sufficient resources\n",
      "23/05/03 21:34:41 WARN YarnScheduler: Initial job has not accepted any resources; check your cluster UI to ensure that workers are registered and have sufficient resources\n",
      "23/05/03 21:34:56 WARN YarnScheduler: Initial job has not accepted any resources; check your cluster UI to ensure that workers are registered and have sufficient resources\n"
     ]
    },
    {
     "name": "stderr",
     "output_type": "stream",
     "text": [
      "[Stage 0:>                                                         (0 + 0) / 34]\r"
     ]
    },
    {
     "name": "stdout",
     "output_type": "stream",
     "text": [
      "23/05/03 21:35:11 WARN YarnScheduler: Initial job has not accepted any resources; check your cluster UI to ensure that workers are registered and have sufficient resources\n",
      "23/05/03 21:35:26 WARN YarnScheduler: Initial job has not accepted any resources; check your cluster UI to ensure that workers are registered and have sufficient resources\n",
      "23/05/03 21:35:41 WARN YarnScheduler: Initial job has not accepted any resources; check your cluster UI to ensure that workers are registered and have sufficient resources\n",
      "23/05/03 21:35:56 WARN YarnScheduler: Initial job has not accepted any resources; check your cluster UI to ensure that workers are registered and have sufficient resources\n"
     ]
    },
    {
     "name": "stderr",
     "output_type": "stream",
     "text": [
      "[Stage 0:=======================================================> (33 + 1) / 34]\r"
     ]
    },
    {
     "name": "stdout",
     "output_type": "stream",
     "text": [
      "200\n"
     ]
    },
    {
     "name": "stderr",
     "output_type": "stream",
     "text": [
      "[Stage 2:=======================================================> (33 + 1) / 34]\r"
     ]
    },
    {
     "name": "stdout",
     "output_type": "stream",
     "text": [
      "23/05/03 21:41:36 WARN package: Truncated the string representation of a plan since it was too large. This behavior can be adjusted by setting 'spark.sql.debug.maxToStringFields'.\n"
     ]
    },
    {
     "name": "stderr",
     "output_type": "stream",
     "text": [
      "                                                                                \r"
     ]
    }
   ],
   "source": [
    "from pyspark.sql.functions import explode, count, row_number, desc\n",
    "from pyspark.sql.types import *\n",
    "import pyspark \n",
    "from delta import *\n",
    "from delta.tables import DeltaTable\n",
    "from pyspark.sql.window import Window\n",
    "from pyspark.ml.feature import RegexTokenizer, StopWordsRemover\n",
    "\n",
    "def main():\n",
    "    \n",
    "    # Constants\n",
    "    TABLE_PATH = \"hdfs:///project/data/review_data/delta_table\"\n",
    "    CSV_PATH = \"hdfs:///project/data/review_data/yelp_academic_dataset_review_output.csv\"\n",
    "\n",
    "    # Initiate spark\n",
    "    builder = pyspark.sql.SparkSession.builder.appName(\"spark_review\") \\\n",
    "        .config(\"spark.sql.extensions\", \"io.delta.sql.DeltaSparkSessionExtension\") \\\n",
    "        .config(\"spark.sql.catalog.spark_catalog\", \"org.apache.spark.sql.delta.catalog.DeltaCatalog\") \\\n",
    "        .config(\"spark.executor.cores\", 4) \\\n",
    "        # .config(\"spark.sql.adaptive.coalescePartitions.enabled\", \"true\") \\\n",
    "        # .config(\"spark.databricks.adaptive.autoOptimizeShuffle.enabled\", \"true\") \\\n",
    "        # .config(\"spark.sql.shuffle.partitions\", 8) \\\n",
    "        # .config(\"spark.databricks.delta.merge.repartitionBeforeWrite.enabled\", \"true\") \\\n",
    "        # .config(\"spark.databricks.delta.optimizeWrite.enabled\", \"true\") \\\n",
    "        # .config(\"spark.databricks.delta.autoCompact.enabled\", \"true\") \\\n",
    "    spark = configure_spark_with_delta_pip(builder).getOrCreate()\n",
    "\n",
    "    # Create dataframe from csv file\n",
    "    schema = \"Review_id STRING, User_id STRING, Business_id STRING, Text STRING\"\n",
    "    df = spark.read.csv(CSV_PATH, schema=schema).repartition(200, \"Review_id\")\n",
    "    # df = spark.read.csv(CSV_PATH, schema=schema)\n",
    "    print(df.rdd.getNumPartitions())\n",
    "\n",
    "    tokenizer = RegexTokenizer(inputCol=\"Text\", outputCol=\"Words\", pattern=\"\\\\W\")\n",
    "    df_words = tokenizer.transform(df)\n",
    "    stopwords = StopWordsRemover.loadDefaultStopWords(\"english\")\n",
    "    remover = StopWordsRemover(inputCol=\"Words\", outputCol=\"Cleaned_Words\", stopWords=stopwords)\n",
    "    df_cleaned_words = remover.transform(df_words).select(\"Review_id\", explode(\"Cleaned_Words\").alias(\"Word\"))\n",
    "    \n",
    "    # Count the frequency of each word within each Review_id group\n",
    "    df_word_counts = df_cleaned_words.groupBy(\"Review_id\", \"Word\").agg(count(\"Word\").alias(\"Count\"))\n",
    "\n",
    "    # Show the most frequent word for each Review_id\n",
    "    # This process is not deterministic, i.e., \n",
    "    # if there are multiple words that could calculate to the same rank, the ones chosen are non-deterministic.\n",
    "    # This means we may update rankings for exisintg reviews.\n",
    "    window = Window.partitionBy(\"Review_id\").orderBy(desc(\"Count\"))\n",
    "    df_top_words = df_word_counts.select(\"*\", row_number().over(window).alias(\"Rank\")).filter(\"Rank <= 3\")\n",
    "\n",
    "    # If no delta table exists, save and exit\n",
    "    if not DeltaTable.isDeltaTable(spark, TABLE_PATH):\n",
    "        df_top_words.write.format(\"delta\").save(TABLE_PATH)\n",
    "        return\n",
    "        \n",
    "    # Upsert delta table\n",
    "    delta_table = DeltaTable.forPath(spark, TABLE_PATH)\n",
    "    delta_table.alias(\"old\") \\\n",
    "        .merge(\n",
    "            df_top_words.alias(\"new\"),\n",
    "            \"old.Review_id = new.Review_id AND old.Rank = new.Rank\"\n",
    "        ) \\\n",
    "        .whenMatchedUpdate(set=\n",
    "            {\n",
    "                \"Review_id\": \"new.Review_id\",\n",
    "                \"Word\": \"new.Word\",\n",
    "                \"Count\": \"new.Count\",\n",
    "                \"Rank\": \"new.Rank\"\n",
    "            }\n",
    "        ) \\\n",
    "        .whenNotMatchedInsert(values=\n",
    "            {\n",
    "                \"Review_id\": \"new.Review_id\",\n",
    "                \"Word\": \"new.Word\",\n",
    "                \"Count\": \"new.Count\",\n",
    "                \"Rank\": \"new.Rank\"\n",
    "            }\n",
    "        ) \\\n",
    "        .execute()\n",
    "\n",
    "\n",
    "if __name__ == \"__main__\":\n",
    "    main()"
   ]
  }
 ],
 "metadata": {
  "kernelspec": {
   "display_name": "Python 3",
   "language": "python",
   "name": "python3"
  },
  "language_info": {
   "codemirror_mode": {
    "name": "ipython",
    "version": 3
   },
   "file_extension": ".py",
   "mimetype": "text/x-python",
   "name": "python",
   "nbconvert_exporter": "python",
   "pygments_lexer": "ipython3",
   "version": "3.8.10"
  },
  "orig_nbformat": 4
 },
 "nbformat": 4,
 "nbformat_minor": 2
}
